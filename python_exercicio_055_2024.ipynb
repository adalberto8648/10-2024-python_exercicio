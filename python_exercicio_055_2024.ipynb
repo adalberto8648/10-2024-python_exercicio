{
  "nbformat": 4,
  "nbformat_minor": 0,
  "metadata": {
    "colab": {
      "provenance": [],
      "authorship_tag": "ABX9TyNpOYQ9DLEp3JFPBgMLCPnk",
      "include_colab_link": true
    },
    "kernelspec": {
      "name": "python3",
      "display_name": "Python 3"
    },
    "language_info": {
      "name": "python"
    }
  },
  "cells": [
    {
      "cell_type": "markdown",
      "metadata": {
        "id": "view-in-github",
        "colab_type": "text"
      },
      "source": [
        "<a href=\"https://colab.research.google.com/github/adalberto8648/10-2024-python_exercicio/blob/main/python_exercicio_055_2024.ipynb\" target=\"_parent\"><img src=\"https://colab.research.google.com/assets/colab-badge.svg\" alt=\"Open In Colab\"/></a>"
      ]
    },
    {
      "cell_type": "code",
      "execution_count": null,
      "metadata": {
        "id": "GlaXDc4dfB8w"
      },
      "outputs": [],
      "source": [
        "'''Exercício 55: 10/2024\n",
        "\n",
        "Solicite ao usuário que insira uma frase.\n",
        "Separe a frase em palavras e armazene-as em uma lista.\n",
        "Exiba a quantidade total de palavras na frase.\n",
        "Calcule e exiba a média de letras por palavra.\n",
        "Conte e exiba quantas vezes uma palavra específica (escolhida pelo usuário) aparece na frase.\n",
        "Exiba a lista de palavras em ordem alfabética.\n",
        "Trate erros de entrada para garantir que a frase não esteja vazia.\n",
        "Dicas:\n",
        "\n",
        "Use o método split() para separar a frase em palavras.\n",
        "Use len() para contar o número de palavras e a média de letras.\n",
        "Utilize um loop for para contar as ocorrências da palavra específica.\n",
        "Utilize sort() para ordenar a lista de palavras.'''\n",
        "\n",
        "def analise_frase():\n",
        "  while True:\n",
        "    frase = input('Digite uma frase: ').strip()\n",
        "    if not frase:\n",
        "      print('Você deixou o campo vazio, digite a frase:')\n",
        "      continue\n",
        "    else:\n",
        "      break\n",
        "\n",
        "  lista = frase.split()\n",
        "  quantidade = len(lista)\n",
        "  print(f'Sua frase tem {quantidade} palavras')\n",
        "\n",
        "  media = len(frase.replace(' ','')) / len(lista)\n",
        "  print(f'Tem {media:.2f} letras em média por palavra')\n",
        "\n",
        "  while True:\n",
        "    palavra = input('Escolha uma palavra para que seja analisada na frase: ').strip()\n",
        "    if not palavra:\n",
        "      print('Você deixou o campo vazio, digite a palavra:')\n",
        "      continue\n",
        "\n",
        "    elif palavra not in frase:\n",
        "      print(f'A palavra \"{palavra}\" não está na frase. Tente novamente.')\n",
        "\n",
        "    else:\n",
        "      contagem = frase.count(palavra)\n",
        "      print(f'Existem {contagem} palavra ({palavra}) na frase digitada.')\n",
        "      break\n",
        "\n",
        "  lista.sort()\n",
        "  print(\"Palavras em ordem alfabética:\", lista)\n",
        "\n",
        "analise_frase()"
      ]
    }
  ]
}