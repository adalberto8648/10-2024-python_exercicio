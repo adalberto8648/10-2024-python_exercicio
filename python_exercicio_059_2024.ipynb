{
  "nbformat": 4,
  "nbformat_minor": 0,
  "metadata": {
    "colab": {
      "provenance": [],
      "authorship_tag": "ABX9TyMtGV403jKZ+TSZZya5LE1D",
      "include_colab_link": true
    },
    "kernelspec": {
      "name": "python3",
      "display_name": "Python 3"
    },
    "language_info": {
      "name": "python"
    }
  },
  "cells": [
    {
      "cell_type": "markdown",
      "metadata": {
        "id": "view-in-github",
        "colab_type": "text"
      },
      "source": [
        "<a href=\"https://colab.research.google.com/github/adalberto8648/10-2024-python_exercicio/blob/main/python_exercicio_059_2024.ipynb\" target=\"_parent\"><img src=\"https://colab.research.google.com/assets/colab-badge.svg\" alt=\"Open In Colab\"/></a>"
      ]
    },
    {
      "cell_type": "code",
      "execution_count": null,
      "metadata": {
        "id": "1I_-_wCTOh3w"
      },
      "outputs": [],
      "source": [
        "'''Exercício 59: 10/2024\n",
        "\n",
        "Crie um programa que permita ao usuário inserir até 7 números inteiros.\n",
        "Ao final, o programa deve:\n",
        "Exibir a lista completa formatada com 2 casas decimais.\n",
        "Exibir apenas os números ímpares e sua soma total.\n",
        "Perguntar ao usuário se deseja substituir todos os números ímpares por -1 e,\n",
        "em caso afirmativo, exibir a nova lista formatada.\n",
        "Exibir a média dos números originais (antes de qualquer modificação).'''\n",
        "\n",
        "def formatar_lista(lista_qualquer):\n",
        "  return [f'{numero:.2f}' for numero in lista_qualquer]\n",
        "\n",
        "def lista_impares(lista_qualquer):\n",
        "  return [numero for numero in lista_qualquer if numero % 2 != 0]\n",
        "\n",
        "def soma_lista(lista_qualquer):\n",
        "  return sum(lista_qualquer)\n",
        "\n",
        "def media_lista(lista_qualquer):\n",
        "  return sum(lista_qualquer) / len(lista_qualquer)\n",
        "\n",
        "lista_vazia = []\n",
        "print('Insira até 7 números inteiros. Digite número negativo para encerrar antes a entrada de números.')\n",
        "for n in range(1, 8):\n",
        "  while True:\n",
        "    try:\n",
        "      numeros = int(input(f'Digite o {n}° número inteiro: '))\n",
        "      if n == 1 and numeros < 0:\n",
        "        print('Digite apenas números inteiros.')\n",
        "        continue\n",
        "      if numeros < 0:\n",
        "        print('Número negativo digitado, encerrando entrada de números.')\n",
        "        break\n",
        "      lista_vazia.append(numeros)\n",
        "      break\n",
        "    except ValueError:\n",
        "      print('Digite apenas números inteiros.')\n",
        "  if numeros < 0:\n",
        "    break\n",
        "\n",
        "print()\n",
        "print(f'Sua lista formatada é: {formatar_lista(lista_vazia)}')\n",
        "impares = lista_impares(lista_vazia)\n",
        "print(f'Os números impares que foram digitados: {impares}')\n",
        "print(f'A soma dos números impares: {soma_lista(impares)}')\n",
        "print()\n",
        "\n",
        "while True:\n",
        "  pergunta = input('Deseja substiuir todos os números ímpares por -1: (Sim) ou (Não)? ').strip().lower()\n",
        "  if pergunta in ['sim', 'não']:\n",
        "    break\n",
        "  else:\n",
        "    print('Escolha uma das opções: Sim ou Não.')\n",
        "\n",
        "print()\n",
        "\n",
        "if pergunta == 'sim':\n",
        "  for p, numero in enumerate(impares):\n",
        "    impares[p] = -1\n",
        "\n",
        "  impares_formatado = formatar_lista(impares)\n",
        "  print(f'Sua nova lista de impares substituida por -1: {impares_formatado}')\n",
        "\n",
        "else:\n",
        "  print(f'A média de números digitados: {media_lista(lista_vazia)}')"
      ]
    }
  ]
}