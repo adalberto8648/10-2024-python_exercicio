{
  "nbformat": 4,
  "nbformat_minor": 0,
  "metadata": {
    "colab": {
      "provenance": [],
      "authorship_tag": "ABX9TyMDjLfhJ6Hk3F7i/9hJ6Wn5",
      "include_colab_link": true
    },
    "kernelspec": {
      "name": "python3",
      "display_name": "Python 3"
    },
    "language_info": {
      "name": "python"
    }
  },
  "cells": [
    {
      "cell_type": "markdown",
      "metadata": {
        "id": "view-in-github",
        "colab_type": "text"
      },
      "source": [
        "<a href=\"https://colab.research.google.com/github/adalberto8648/10-2024-python_exercicio/blob/main/python_exercicio_058_2024.ipynb\" target=\"_parent\"><img src=\"https://colab.research.google.com/assets/colab-badge.svg\" alt=\"Open In Colab\"/></a>"
      ]
    },
    {
      "cell_type": "code",
      "execution_count": null,
      "metadata": {
        "id": "kaZFbgzifxvP"
      },
      "outputs": [],
      "source": [
        "'''Exercício 58: 10/2024\n",
        "\n",
        "Crie um programa que receba uma frase do usuário e, em seguida, faça as seguintes operações:\n",
        "Converta a frase em uma lista de palavras.\n",
        "Conte quantas palavras existem na frase.\n",
        "Conte quantas letras existem na frase (desconsiderando os espaços).\n",
        "Calcule a média de letras por palavra.\n",
        "Pergunte ao usuário se ele deseja inverter a frase. Se sim, mostre a frase invertida.'''\n",
        "\n",
        "frase = input('Digite uma frase: ').strip().lower()\n",
        "print('=' * 10, 'xx', '=' * 10 )\n",
        "\n",
        "print(f'Frase em lista: {frase.split()}')\n",
        "print('=' * 10, 'xx', '=' * 10 )\n",
        "\n",
        "print(f'Existem {len(frase.split())} palavras na frase')\n",
        "print('=' * 10, 'xx', '=' * 10 )\n",
        "\n",
        "print(f'Existem {len(frase)} letras na frase com os espaços')\n",
        "print('=' * 10, 'xx', '=' * 10 )\n",
        "\n",
        "letras_s_espaco = len(frase.replace(' ', ''))\n",
        "print(f'Existem {letras_s_espaco} letras na frase e {len(frase) - letras_s_espaco} espaço(s)')\n",
        "print('=' * 10, 'xx', '=' * 10 )\n",
        "\n",
        "media = len(frase.replace(' ', '')) / len(frase.split())\n",
        "print(f'A média de letras por palavra é: {media:.2f}')\n",
        "print('=' * 10, 'xx', '=' * 10 )\n",
        "\n",
        "while True:\n",
        "  pergunta = input('Deseja inverter a frase digitada. (Sim) ou (Não)? ').strip().lower()\n",
        "  if pergunta in['sim', 'não']:\n",
        "    break\n",
        "  else:\n",
        "    print('Precisa escolher entre (Sim) ou (Não)')\n",
        "\n",
        "if pergunta == 'sim':\n",
        "    print(f'A frase invertida é: {frase[::-1]}')\n",
        "\n",
        "else:\n",
        "  print(f'Você preferiu não inverter a frase. {frase}')"
      ]
    }
  ]
}