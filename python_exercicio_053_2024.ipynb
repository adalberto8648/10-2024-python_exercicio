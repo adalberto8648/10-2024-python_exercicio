{
  "nbformat": 4,
  "nbformat_minor": 0,
  "metadata": {
    "colab": {
      "provenance": [],
      "authorship_tag": "ABX9TyOhohJOSIzJVurb1NCVdG8F",
      "include_colab_link": true
    },
    "kernelspec": {
      "name": "python3",
      "display_name": "Python 3"
    },
    "language_info": {
      "name": "python"
    }
  },
  "cells": [
    {
      "cell_type": "markdown",
      "metadata": {
        "id": "view-in-github",
        "colab_type": "text"
      },
      "source": [
        "<a href=\"https://colab.research.google.com/github/adalberto8648/10-2024-python_exercicio/blob/main/python_exercicio_053_2024.ipynb\" target=\"_parent\"><img src=\"https://colab.research.google.com/assets/colab-badge.svg\" alt=\"Open In Colab\"/></a>"
      ]
    },
    {
      "cell_type": "code",
      "execution_count": null,
      "metadata": {
        "id": "DHEZy_M_eWvA"
      },
      "outputs": [],
      "source": [
        "'''Exercício 53: 10/2024\n",
        "\n",
        "Use um loop for para percorrer a lista e encontrar todos os números que são múltiplos de 3.\n",
        "Implemente uma função que receba a lista de números e retorne a soma dos múltiplos de 3.\n",
        "Adicione tratamento de erros para garantir que o usuário insira apenas números inteiros.\n",
        "Use f-strings para exibir a lista de números inseridos e a soma dos múltiplos de 3.'''\n",
        "\n",
        "from itertools import count\n",
        "\n",
        "lista_vazia = []\n",
        "\n",
        "for n in count(1):\n",
        "  while True:\n",
        "    try:\n",
        "      numeros = int(input(f'Digite o {n}° número inteiro: '))\n",
        "      if n == 1 and numeros < 0:\n",
        "        print('O primeiro número não pode ser negativo.')\n",
        "        continue\n",
        "      if numeros < 0:\n",
        "        print('Número negativo digitado, fechando entrada de números.')\n",
        "        break\n",
        "      lista_vazia.append(numeros)\n",
        "      break\n",
        "    except ValueError:\n",
        "      print('Digite apenas números inteiros.')\n",
        "  if numeros < 0:\n",
        "    break\n",
        "\n",
        "print()\n",
        "\n",
        "lista_formatada = [f'{numeros:.2f}' for numeros in lista_vazia]\n",
        "print(f'Números digitados inicialmente:{lista_formatada}')\n",
        "print(f'A soma dos números digitados inicialmente: {sum(lista_vazia)}')\n",
        "print()\n",
        "\n",
        "multiplos = [numero for numero in lista_vazia if numero % 3 == 0]\n",
        "multiplos_formatado = [f'{numeros:.2f}' for numeros in multiplos]\n",
        "print(f'Nova lista que são os múltiplos de 3: {multiplos_formatado}')\n",
        "print(f'A soma dos números que são múltiplos de 3: {sum(multiplos)}')"
      ]
    }
  ]
}