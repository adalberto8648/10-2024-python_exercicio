{
  "nbformat": 4,
  "nbformat_minor": 0,
  "metadata": {
    "colab": {
      "provenance": [],
      "authorship_tag": "ABX9TyOzXxEyc8Une3CGOeoCYBLu",
      "include_colab_link": true
    },
    "kernelspec": {
      "name": "python3",
      "display_name": "Python 3"
    },
    "language_info": {
      "name": "python"
    }
  },
  "cells": [
    {
      "cell_type": "markdown",
      "metadata": {
        "id": "view-in-github",
        "colab_type": "text"
      },
      "source": [
        "<a href=\"https://colab.research.google.com/github/adalberto8648/10-2024-python_exercicio/blob/main/python_exercicio_057_2024.ipynb\" target=\"_parent\"><img src=\"https://colab.research.google.com/assets/colab-badge.svg\" alt=\"Open In Colab\"/></a>"
      ]
    },
    {
      "cell_type": "code",
      "execution_count": null,
      "metadata": {
        "id": "ONZ0d1wAfiX8"
      },
      "outputs": [],
      "source": [
        "'''Exercício 57: 10/2024\n",
        "\n",
        "Solicite ao usuário que digite uma sequência de números inteiros\n",
        "(quantos ele quiser) e os armazene em uma lista.\n",
        "Após o usuário finalizar a entrada de números, o programa deve exibir:\n",
        "A quantidade de números digitados.\n",
        "O maior número da lista.\n",
        "O menor número da lista.\n",
        "A média dos números digitados.\n",
        "Todos os números pares da lista.\n",
        "\n",
        "Dicas:\n",
        "Lembre-se de validar as entradas para garantir que o usuário está digitando números inteiros.\n",
        "Utilize estruturas como for e if para realizar as análises.'''\n",
        "\n",
        "from itertools import count\n",
        "lista_vazia = []\n",
        "\n",
        "for n in count(1):\n",
        "  while True:\n",
        "    try:\n",
        "      numeros = int(input(f'Digite o {n}° inteiro: '))\n",
        "      if n == 1 and numeros < 0:\n",
        "        print('Digite apenas números inteiros.')\n",
        "        continue\n",
        "      if numeros < 0:\n",
        "        print('Número negativo digitado, fechando entrada de números.')\n",
        "        break\n",
        "      lista_vazia.append(numeros)\n",
        "      break\n",
        "    except ValueError:\n",
        "      print('Digite apenas números inteiros.')\n",
        "  if numeros < 0:\n",
        "    break\n",
        "\n",
        "print(f'Os números digitados foram: {lista_vazia}')\n",
        "print(f'Foram digitados {len(lista_vazia)} números')\n",
        "print(f'O maior número digitado é: {max(lista_vazia)}')\n",
        "print(f'O menor número digitado é: {min(lista_vazia)}')\n",
        "print(f'A média dos números digitados é: {(sum(lista_vazia) / min(lista_vazia)):.2f}')\n",
        "print([numeros for numeros in lista_vazia if numeros % 2 == 0])"
      ]
    }
  ]
}