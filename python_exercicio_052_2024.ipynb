{
  "nbformat": 4,
  "nbformat_minor": 0,
  "metadata": {
    "colab": {
      "provenance": [],
      "authorship_tag": "ABX9TyMr6f+8e9wmW+nOeQXeYO9K",
      "include_colab_link": true
    },
    "kernelspec": {
      "name": "python3",
      "display_name": "Python 3"
    },
    "language_info": {
      "name": "python"
    }
  },
  "cells": [
    {
      "cell_type": "markdown",
      "metadata": {
        "id": "view-in-github",
        "colab_type": "text"
      },
      "source": [
        "<a href=\"https://colab.research.google.com/github/adalberto8648/10-2024-python_exercicio/blob/main/python_exercicio_052_2024.ipynb\" target=\"_parent\"><img src=\"https://colab.research.google.com/assets/colab-badge.svg\" alt=\"Open In Colab\"/></a>"
      ]
    },
    {
      "cell_type": "code",
      "execution_count": null,
      "metadata": {
        "id": "G72afcfAJrXK"
      },
      "outputs": [],
      "source": [
        "'''Exercício 52: 10/2024\n",
        "Objetivo: O usuário deverá inserir números inteiros em uma lista,\n",
        "com validação para impedir a inserção de valores duplicados ou\n",
        "fora de um intervalo permitido(por exemplo, de 1 a 100).\n",
        "O programa deve exibir várias informações sobre a lista.\n",
        "\n",
        "Instruções:\n",
        "O usuário poderá inserir números inteiros (de 1 a 100) em uma lista.\n",
        "Se o número já estiver na lista ou for fora do intervalo, ele será informado\n",
        "e precisará digitar novamente.\n",
        "O usuário poderá encerrar a entrada de dados digitando um número negativo.\n",
        "Após a inserção, o programa deve exibir:\n",
        "a) Todos os números da lista, ordenados em ordem crescente.\n",
        "b) O maior e o menor número da lista.\n",
        "c) A soma de todos os números da lista.\n",
        "d) A média dos números da lista.'''\n",
        "\n",
        "from itertools import count\n",
        "\n",
        "def ordem_lista(lista):\n",
        "  return sorted(lista)\n",
        "\n",
        "def maior_lista(lista):\n",
        "  return max(lista)\n",
        "\n",
        "def menor_lista(lista):\n",
        "  return min(lista)\n",
        "\n",
        "def somar_lista(lista):\n",
        "  return sum(lista)\n",
        "\n",
        "def media_lista(lista):\n",
        "  return sum(lista) / len(lista)\n",
        "\n",
        "lista_vazia = []\n",
        "\n",
        "for n in count(1):\n",
        "  while True:\n",
        "    try:\n",
        "      numeros = int(input(f'Digite o {n}º número inteiro: '))\n",
        "\n",
        "      if numeros < 0 or numeros > 100:\n",
        "        print('Número menores que 0 e maiores que 100 não podem ser usados.')\n",
        "        continue\n",
        "\n",
        "      if numeros > 100:\n",
        "        print('Número fora do intervalo permitido.')\n",
        "        continue\n",
        "\n",
        "      if numeros in lista_vazia:\n",
        "        print('Número repetido')\n",
        "        continue\n",
        "\n",
        "      if numeros < 0:\n",
        "        print('Número negativo digitado, encerrando entrada.')\n",
        "        break\n",
        "\n",
        "      lista_vazia.append(numeros)\n",
        "      break\n",
        "\n",
        "    except ValueError:\n",
        "      print('Digite números de 1 a 100.')\n",
        "\n",
        "  if numeros < 0:\n",
        "    break\n",
        "\n",
        "print(f'Todos os números da lista, em ordem crescente: {ordem_lista(lista_vazia)}')\n",
        "print(f'O maior número da lista é {maior_lista(lista_vazia)} e o menor número da lista é {menor_lista(lista_vazia)}.')\n",
        "print(f'A soma total dos números da lista é: {somar_lista(lista_vazia)}.')\n",
        "print(f'A média dos números da lista é: {media_lista(lista_vazia):.2f}.')"
      ]
    }
  ]
}