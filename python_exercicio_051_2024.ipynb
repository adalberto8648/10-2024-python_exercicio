{
  "nbformat": 4,
  "nbformat_minor": 0,
  "metadata": {
    "colab": {
      "provenance": [],
      "authorship_tag": "ABX9TyNoHjIo7xPLa3wbb7VKFQte",
      "include_colab_link": true
    },
    "kernelspec": {
      "name": "python3",
      "display_name": "Python 3"
    },
    "language_info": {
      "name": "python"
    }
  },
  "cells": [
    {
      "cell_type": "markdown",
      "metadata": {
        "id": "view-in-github",
        "colab_type": "text"
      },
      "source": [
        "<a href=\"https://colab.research.google.com/github/adalberto8648/10-2024-python_exercicio/blob/main/python_exercicio_051_2024.ipynb\" target=\"_parent\"><img src=\"https://colab.research.google.com/assets/colab-badge.svg\" alt=\"Open In Colab\"/></a>"
      ]
    },
    {
      "cell_type": "code",
      "execution_count": null,
      "metadata": {
        "id": "DAHzHmS8JNA1"
      },
      "outputs": [],
      "source": [
        "'''Exercício 51: 10/2024\n",
        "Objetivo: Criar um programa que permita ao usuário inserir uma série de números em uma lista,\n",
        "realizar operações sobre essa lista e exibir os resultados.\n",
        "\n",
        "Instruções:\n",
        "Criação da lista:\n",
        "Crie uma lista vazia para armazenar os números.\n",
        "Entrada de dados:\n",
        "Utilize um loop while para permitir que o usuário insira números inteiros.\n",
        "O usuário deve poder encerrar a entrada digitando um número negativo.\n",
        "Valide as entradas para garantir que o usuário só possa inserir números inteiros.\n",
        "Exibir opções:\n",
        "Após o usuário encerrar a entrada de números, exiba um menu de opções:\n",
        "a. Exibir a lista de números inseridos.\n",
        "b. Calcular e exibir a soma dos números na lista.\n",
        "c. Calcular e exibir a média dos números na lista.\n",
        "d. Encontrar e exibir o maior e o menor número da lista.\n",
        "e. Sair do programa.\n",
        "Implementação:\n",
        "\n",
        "Utilize loops for para iterar sobre a lista, quando necessário.\n",
        "Utilize condicionais para o menu de opções.'''\n",
        "from itertools import count\n",
        "\n",
        "def formatacao(lista):\n",
        "  return [f'{numero:.2f}' for numero in lista]\n",
        "\n",
        "lista_vazia = []\n",
        "\n",
        "print('Digite uma série de números inteiros, ou negativo para encerrar.')\n",
        "for n in count(1):\n",
        "  while True:\n",
        "    try:\n",
        "      numeros = int(input(f'Digite o {n}º número inteiro. '))\n",
        "      if n == 1 and numeros < 0:\n",
        "        print('O primeiro número não pode ser negativo')\n",
        "        continue\n",
        "      if numeros < 0:\n",
        "        print('Número negativo digitado, fechando entrada de números.')\n",
        "        break\n",
        "      lista_vazia.append(numeros)\n",
        "      break\n",
        "    except ValueError:\n",
        "      print('Digite apenas números inteiros.')\n",
        "  if numeros < 0:\n",
        "    break\n",
        "\n",
        "print()\n",
        "print('Menu:')\n",
        "\n",
        "opcao_a = 'a - Exibir a lista de números inseridos.'\n",
        "opcao_b = 'b - Calcular e exibir a soma dos números na lista.'\n",
        "opcao_c = 'c - Calcular e exibir a média dos números na lista.'\n",
        "opcao_d = 'd - Encontrar e exibir o maior e o menor número da lista.'\n",
        "opcao_e = 'e - Sair do programa.'\n",
        "\n",
        "lista_opçoes = [opcao_a, opcao_b, opcao_c, opcao_d, opcao_e]\n",
        "\n",
        "for lista in lista_opçoes:\n",
        "  print(lista)\n",
        "print()\n",
        "\n",
        "while True:\n",
        "  escolher_opcao = input('Escolha uma das opções (a, b, c, d ou e): ').strip().lower()\n",
        "  if escolher_opcao in['a', 'b', 'c', 'd', 'e']:\n",
        "    break\n",
        "  else:\n",
        "    print('Opção inválida. Escolha entre as opções: (a, b, c, d ou e).')\n",
        "\n",
        "if escolher_opcao == 'a':\n",
        "  lista_formatada = formatacao(lista_vazia)\n",
        "  print(f'A lista digitada foi: {lista_formatada}')\n",
        "\n",
        "elif escolher_opcao == 'b':\n",
        "  soma = sum(lista_vazia)\n",
        "  print(f'A soma da lista digitada é: {soma}')\n",
        "\n",
        "elif escolher_opcao == 'c':\n",
        "  media = sum(lista_vazia) / len(lista_vazia)\n",
        "  print(f'A média da lista digitada é: {media:.2f}')\n",
        "\n",
        "elif escolher_opcao == 'd':\n",
        "  maior = max(lista_vazia)\n",
        "  menor = min(lista_vazia)\n",
        "  print(f'O maior número da listas digita é: {maior} e o menor é: {menor}')\n",
        "\n",
        "else:\n",
        "  print('Você escolheu sair do sistema.')"
      ]
    }
  ]
}