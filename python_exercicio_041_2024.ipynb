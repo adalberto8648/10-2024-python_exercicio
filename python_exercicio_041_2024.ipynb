{
  "nbformat": 4,
  "nbformat_minor": 0,
  "metadata": {
    "colab": {
      "provenance": [],
      "authorship_tag": "ABX9TyPgAAhxmIl9w507IMXpbU/M",
      "include_colab_link": true
    },
    "kernelspec": {
      "name": "python3",
      "display_name": "Python 3"
    },
    "language_info": {
      "name": "python"
    }
  },
  "cells": [
    {
      "cell_type": "markdown",
      "metadata": {
        "id": "view-in-github",
        "colab_type": "text"
      },
      "source": [
        "<a href=\"https://colab.research.google.com/github/adalberto8648/10-2024-python_exercicio/blob/main/python_exercicio_041_2024.ipynb\" target=\"_parent\"><img src=\"https://colab.research.google.com/assets/colab-badge.svg\" alt=\"Open In Colab\"/></a>"
      ]
    },
    {
      "cell_type": "code",
      "execution_count": null,
      "metadata": {
        "id": "VJuyWMQ1FyRi"
      },
      "outputs": [],
      "source": [
        "'''Exercício 41: 10/2024\n",
        "\n",
        "Crie uma função chamada substitui_impares que:\n",
        "\n",
        "Receba uma lista de números inteiros.\n",
        "Peça ao usuário um valor para substituir todos os números ímpares da lista.\n",
        "Substitua os números ímpares pelo valor informado.\n",
        "Retorne a lista modificada.\n",
        "Crie uma função chamada soma_lista que:\n",
        "\n",
        "Receba uma lista de números inteiros.\n",
        "Retorne a soma dos números da lista.\n",
        "No programa principal:\n",
        "\n",
        "Peça para o usuário digitar até 6 números inteiros. Se o número for negativo, encerre a entrada.\n",
        "Utilize a função substitui_impares para fazer a substituição dos ímpares.\n",
        "Utilize a função soma_lista para calcular a soma dos números da lista.\n",
        "Exiba a lista final e a soma.'''\n",
        "\n",
        "def substitui_impares(lista):\n",
        "  while True:\n",
        "    try:\n",
        "      valor = int(input(\"Digite um valor para substituir os ímpares: \"))\n",
        "      for p in range(len(lista)):\n",
        "        if lista[p] % 2 != 0:\n",
        "          lista[p] = valor\n",
        "      return lista\n",
        "    except ValueError:\n",
        "        print('Digite apenas números inteiros')\n",
        "\n",
        "def soma_lista(lista):\n",
        "  return sum(lista)\n",
        "\n",
        "lista_vazia = []\n",
        "print(\"Você pode digitar até 6 números inteiros. Para encerrar, digite um número negativo.\")\n",
        "for n in range(1, 7):\n",
        "  while True:\n",
        "    try:\n",
        "      numeros = int(input(f'Digite o {n}° número inteiro: '))\n",
        "      if n == 1 and numeros < 0:\n",
        "        print('Número negativo digitado, comece novamente')\n",
        "        continue\n",
        "      if numeros < 0:\n",
        "        print('Número negativo digitado, encerrando entrada de números')\n",
        "        break\n",
        "      lista_vazia.append(numeros)\n",
        "      break\n",
        "    except ValueError:\n",
        "      print('Digite apenas números inteiros')\n",
        "  if numeros < 0:\n",
        "    break\n",
        "\n",
        "if any(numero % 2 != 0 for numero in lista_vazia):\n",
        "    nova_lista = substitui_impares(lista_vazia)\n",
        "    soma = soma_lista(nova_lista)\n",
        "    print(f'A sua nova lista após substituição é: {nova_lista}')\n",
        "    print(f'A soma da lista é: {soma:.2f}')\n",
        "\n",
        "else:\n",
        "    soma = soma_lista(lista_vazia)\n",
        "    print(f'A soma da lista é: {soma:.2f}')"
      ]
    }
  ]
}