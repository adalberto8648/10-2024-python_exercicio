{
  "nbformat": 4,
  "nbformat_minor": 0,
  "metadata": {
    "colab": {
      "provenance": [],
      "authorship_tag": "ABX9TyN8Y55iGIYa7N3KsPTDP7so",
      "include_colab_link": true
    },
    "kernelspec": {
      "name": "python3",
      "display_name": "Python 3"
    },
    "language_info": {
      "name": "python"
    }
  },
  "cells": [
    {
      "cell_type": "markdown",
      "metadata": {
        "id": "view-in-github",
        "colab_type": "text"
      },
      "source": [
        "<a href=\"https://colab.research.google.com/github/adalberto8648/10-2024-python_exercicio/blob/main/python_exercicio_049_2024.ipynb\" target=\"_parent\"><img src=\"https://colab.research.google.com/assets/colab-badge.svg\" alt=\"Open In Colab\"/></a>"
      ]
    },
    {
      "cell_type": "code",
      "execution_count": null,
      "metadata": {
        "id": "fbfEjHUHIeu7"
      },
      "outputs": [],
      "source": [
        "'''Exercício 49: 10/2024\n",
        "\n",
        "Objetivo: Você irá pedir ao usuário para inserir várias notas e seus respectivos pesos,\n",
        "calcular a média ponderada dessas notas e exibir o resultado formatado.\n",
        "\n",
        "Instruções:\n",
        "Crie uma lista para armazenar as notas e outra para armazenar os pesos.\n",
        "Utilize um loop while para permitir que o usuário insira as notas e os pesos.\n",
        "As entradas devem ser validadas, ou seja, as notas devem estar entre 0 e 10,\n",
        "e os pesos devem ser números inteiros positivos.\n",
        "O usuário pode encerrar a entrada de dados digitando um número negativo para a nota.\n",
        "Calcule a média ponderada das notas.\n",
        "Exiba o resultado formatado para duas casas decimais.\n",
        "Trate erros de entrada de dados utilizando try e except.\n",
        "Dicas:\n",
        "Use a função sum() para calcular a soma dos produtos das notas pelos pesos.\n",
        "A média ponderada é dada por: media_ponderada = sum(nota * peso) / sum(peso)\n",
        "media_ponderada = sum(numeros * pesos for numeros, pesos in zip(lista_notas,\n",
        "lista_pesos)) / sum(lista_pesos)'''\n",
        "\n",
        "from itertools import count\n",
        "\n",
        "lista_notas = []\n",
        "lista_pesos = []\n",
        "\n",
        "for n in count(1):\n",
        "  while True:\n",
        "    try:\n",
        "      numeros = int(input(f'Digite o {n}° número: '))\n",
        "      if n == 1 and (numeros < 0 or numeros > 10):\n",
        "        print('Primeiro número não pode ser negativo e maior que 10, comece novamente')\n",
        "        continue\n",
        "      if numeros < 0 or numeros > 10:\n",
        "        print('Numero negativo foi digitado, encerrando entrada de números.')\n",
        "        break\n",
        "      lista_notas.append(numeros)\n",
        "      break\n",
        "    except ValueError:\n",
        "      print('Digite apenas números inteiros')\n",
        "  if numeros < 0 or numeros > 10:\n",
        "    break\n",
        "\n",
        "  while True:\n",
        "    try:\n",
        "      pesos = int(input(f'Digite o {n}º peso da nota: '))\n",
        "      if pesos < 0 or pesos > 10:\n",
        "        print('Notas de peso não podem ser negativas e nem maior que 10.')\n",
        "        continue\n",
        "\n",
        "      lista_pesos.append(pesos)\n",
        "      break\n",
        "\n",
        "    except ValueError:\n",
        "      print('Digite apenas números inteiros')\n",
        "\n",
        "media_ponderada = sum(numeros * pesos for numeros, pesos in zip(lista_notas, lista_pesos)) / sum(lista_pesos)\n",
        "\n",
        "print(f'A média ponderada é {media_ponderada:.2f}')"
      ]
    }
  ]
}