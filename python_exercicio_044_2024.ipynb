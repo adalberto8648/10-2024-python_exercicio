{
  "nbformat": 4,
  "nbformat_minor": 0,
  "metadata": {
    "colab": {
      "provenance": [],
      "authorship_tag": "ABX9TyNZbhYu9nHLY7FEocTSJsQl",
      "include_colab_link": true
    },
    "kernelspec": {
      "name": "python3",
      "display_name": "Python 3"
    },
    "language_info": {
      "name": "python"
    }
  },
  "cells": [
    {
      "cell_type": "markdown",
      "metadata": {
        "id": "view-in-github",
        "colab_type": "text"
      },
      "source": [
        "<a href=\"https://colab.research.google.com/github/adalberto8648/10-2024-python_exercicio/blob/main/python_exercicio_044_2024.ipynb\" target=\"_parent\"><img src=\"https://colab.research.google.com/assets/colab-badge.svg\" alt=\"Open In Colab\"/></a>"
      ]
    },
    {
      "cell_type": "code",
      "execution_count": null,
      "metadata": {
        "id": "EJzqvzytGsr3"
      },
      "outputs": [],
      "source": [
        "'''Exercício 17 / 29 / 44: 10/2024\n",
        "\n",
        "Peça ao usuário para digitar 6 números inteiros e armazene-os em uma lista.\n",
        "Verifique se todos os números são ímpares. Se sim, exiba a mensagem:\n",
        "\"Todos os números são ímpares\". Caso contrário, exiba: \"Há pelo menos um número par\".\n",
        "Pergunte ao usuário se ele deseja: Somar os números, Multiplicar os números por um valor que ele escolher.\n",
        "Se o usuário escolher somar, mostre o resultado da soma e a lista de números\n",
        "formatados com duas casas decimais.\n",
        "Se o usuário escolher multiplicar, peça o número para multiplicar cada valor da lista.\n",
        "Mostre a nova lista após a multiplicação e a soma dos valores multiplicados,\n",
        "tudo formatado com duas casas decimais.\n",
        "Trate entradas inválidas usando try e except para garantir que o usuário digite apenas números inteiros.\n",
        "Alterar o código feito para incluir o loop while\n",
        "Incluir alguma função'''\n",
        "\n",
        "def multiplicador_lista(lista):\n",
        "  while True:\n",
        "    try:\n",
        "      multiplicador = int(input('Escolha o número inteiro e maior que 0 a ser multiplicado : '))\n",
        "      if multiplicador <= 0:\n",
        "        print('O primeiro número não pode ser negativo. Tente novamente.')\n",
        "      else:\n",
        "        nova_lista = [numero * multiplicador for numero in lista]\n",
        "        return nova_lista\n",
        "    except ValueError:\n",
        "      print('Digite apenas números inteiros e maior que 0')\n",
        "\n",
        "def formatacao_lista(lista):\n",
        "  lista_formatada = [f'{numero:.2f}' for numero in lista]\n",
        "  return lista_formatada\n",
        "\n",
        "def soma_total(lista):\n",
        "  return sum(lista)\n",
        "\n",
        "lista_vazia = []\n",
        "\n",
        "print(\"Você pode digitar até 5 números inteiros. Para encerrar, digite um número negativo.\")\n",
        "\n",
        "for n in range(1, 6):\n",
        "  while True:\n",
        "    try:\n",
        "      numeros = int(input(f'Digite o {n}° número inteiro: '))\n",
        "      if n == 1 and numeros < 0:\n",
        "        print('O primeiro número não pode ser negativo. Tente novamente.')\n",
        "        continue\n",
        "      if numeros < 0:\n",
        "        print('Número negativo digitado. Encerrando a entrada de números.')\n",
        "        break # encerra while\n",
        "      lista_vazia.append(numeros)\n",
        "      break # Sai do loop while para continuar o for\n",
        "    except ValueError:\n",
        "      print('Digite apenas números inteiros')\n",
        "  if numeros < 0:\n",
        "    break # Esse break encerraria o loop for\n",
        "\n",
        "if all(numero % 2 != 0 for numero in lista_vazia):\n",
        "  print('Todos número são impares')\n",
        "\n",
        "else:\n",
        "  pares = [numero for numero in lista_vazia if numero % 2 == 0]\n",
        "  print(f'Número(s) par(es) encontrado(s): {pares}')\n",
        "\n",
        "while True:\n",
        "  pergunta = input('Deseja somar ou multiplicar os números por um valor que escolher? (Somar) ou (Multiplicar): ').lower()\n",
        "  if pergunta in ['somar', 'multiplicar']:\n",
        "    break\n",
        "  else:\n",
        "    print('Escolha entre as opções (Somar) ou (Multiplicar)')\n",
        "\n",
        "if pergunta == 'somar':\n",
        "  soma = soma_total(lista_vazia)\n",
        "  print(f'A soma da lista é: {soma:.2f}')\n",
        "  formatacao = formatacao_lista(lista_vazia)\n",
        "  print(f'A lista após a formatação é: {formatacao}')\n",
        "\n",
        "else:\n",
        "  nova_lista = multiplicador_lista(lista_vazia)\n",
        "  formatacao = formatacao_lista(nova_lista)\n",
        "  print(f'Sua nova lista após a multiplicação é: {formatacao}')\n",
        "  soma = soma_total(nova_lista)\n",
        "  print(f'A soma da nova lista é: {soma:.2f}')"
      ]
    }
  ]
}