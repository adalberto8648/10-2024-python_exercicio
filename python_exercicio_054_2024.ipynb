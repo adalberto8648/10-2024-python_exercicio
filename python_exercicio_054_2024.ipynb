{
  "nbformat": 4,
  "nbformat_minor": 0,
  "metadata": {
    "colab": {
      "provenance": [],
      "authorship_tag": "ABX9TyNCIaGDEcUUyAYsR3b+YpNg",
      "include_colab_link": true
    },
    "kernelspec": {
      "name": "python3",
      "display_name": "Python 3"
    },
    "language_info": {
      "name": "python"
    }
  },
  "cells": [
    {
      "cell_type": "markdown",
      "metadata": {
        "id": "view-in-github",
        "colab_type": "text"
      },
      "source": [
        "<a href=\"https://colab.research.google.com/github/adalberto8648/10-2024-python_exercicio/blob/main/python_exercicio_054_2024.ipynb\" target=\"_parent\"><img src=\"https://colab.research.google.com/assets/colab-badge.svg\" alt=\"Open In Colab\"/></a>"
      ]
    },
    {
      "cell_type": "code",
      "execution_count": null,
      "metadata": {
        "id": "bf1sF37YeuYT"
      },
      "outputs": [],
      "source": [
        "'''Exercício 54: 10/2024\n",
        "\n",
        "Solicite ao usuário que insira números inteiros.\n",
        "O usuário pode continuar inserindo números até que insira um número negativo,\n",
        "o que encerra a entrada de dados.\n",
        "Valide as entradas para garantir que o usuário insira apenas números inteiros.\n",
        "Crie uma função chamada eh_primo que receba um número e retorne True se o número\n",
        "for primo e False caso contrário.\n",
        "Use um loop for para percorrer os números inseridos e identificar quais são primos.\n",
        "Armazene os números primos em uma lista separada.\n",
        "Exiba:\n",
        "A lista dos números primos inseridos.\n",
        "A soma dos números primos.\n",
        "O total de números primos inseridos.\n",
        "\n",
        "Dicas:\n",
        "Um número é considerado primo se ele for maior que 1 e divisível apenas por 1 e por ele mesmo.\n",
        "Use a função sum() para calcular a soma dos números primos.\n",
        "Trate erros de entrada de dados utilizando try e except.'''\n",
        "\n",
        "from itertools import count\n",
        "import math\n",
        "\n",
        "lista_vazia = []\n",
        "\n",
        "for n in count(1):\n",
        "  while True:\n",
        "    try:\n",
        "      numeros = int(input(f'Digite o {n}º número inteiro: '))\n",
        "      if n == 1 and numeros < 0:\n",
        "        print('O primeiro número não pode ser negativo.')\n",
        "        continue\n",
        "      if numeros < 0:\n",
        "        print('Número negativo digitado, encerrando entrada de números.')\n",
        "        break\n",
        "      lista_vazia.append(numeros)\n",
        "      break\n",
        "    except ValueError:\n",
        "      print('Digite apenas números inteiros.')\n",
        "  if numeros < 0:\n",
        "    break\n",
        "\n",
        "def eh_primo(lista_numeros):\n",
        "    if numero_recebido < 2:\n",
        "        return False\n",
        "    for i in range(2, int(math.sqrt(numero_recebido)) + 1):\n",
        "        if numero_recebido % i == 0:\n",
        "          return False\n",
        "    return True\n",
        "\n",
        "numeros_primos = []\n",
        "\n",
        "for numero_recebido in lista_vazia:\n",
        "    if eh_primo(numero_recebido):\n",
        "        numeros_primos.append(numero_recebido)\n",
        "\n",
        "print(f'Números digitados {lista_vazia}')\n",
        "print(f\"Números primos: {numeros_primos}\")\n",
        "print(f\"Soma dos números primos: {sum(numeros_primos)}\")\n",
        "print(f'Foram inseridos {len(numeros_primos)} números primos.')"
      ]
    }
  ]
}