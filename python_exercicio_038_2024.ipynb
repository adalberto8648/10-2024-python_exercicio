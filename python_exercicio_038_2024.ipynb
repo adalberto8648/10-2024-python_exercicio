{
  "nbformat": 4,
  "nbformat_minor": 0,
  "metadata": {
    "colab": {
      "provenance": [],
      "authorship_tag": "ABX9TyOp0DUete8nkKQZ5oy84Eh8",
      "include_colab_link": true
    },
    "kernelspec": {
      "name": "python3",
      "display_name": "Python 3"
    },
    "language_info": {
      "name": "python"
    }
  },
  "cells": [
    {
      "cell_type": "markdown",
      "metadata": {
        "id": "view-in-github",
        "colab_type": "text"
      },
      "source": [
        "<a href=\"https://colab.research.google.com/github/adalberto8648/10-2024-python_exercicio/blob/main/python_exercicio_038_2024.ipynb\" target=\"_parent\"><img src=\"https://colab.research.google.com/assets/colab-badge.svg\" alt=\"Open In Colab\"/></a>"
      ]
    },
    {
      "cell_type": "code",
      "execution_count": null,
      "metadata": {
        "id": "BXWsPl_L0MZu"
      },
      "outputs": [],
      "source": [
        "'''Exercício 24 / 38: 10/2024\n",
        "Crie um programa que receba 5 números inteiros e, em seguida, verifique se existe\n",
        "pelo menos um número ímpar.\n",
        "Caso haja um número ímpar, pergunte ao usuário se deseja substituir todos os números\n",
        "ímpares pelo valor -1.\n",
        "Se o usuário escolher \"sim\", faça a substituição e exiba a lista formatada.\n",
        "Caso contrário, apenas mostre a lista original formatada.\n",
        "Se não houver números ímpares, exiba a soma dos números da lista.\n",
        "Utilize try e except para garantir que apenas números inteiros sejam inseridos.\n",
        "Formate os números da lista com duas casas decimais.\n",
        "Alterar o código feito para incluir o loop while'''\n",
        "\n",
        "lista_vazia = []\n",
        "print(\"Você pode digitar até 6 números inteiros. Para encerrar, digite um número negativo.\")\n",
        "while True:\n",
        "  try:\n",
        "    for n in range(1, 7):\n",
        "      numeros = int(input(f'Digite o {n}° número inteiro: '))\n",
        "      if numeros < 0:\n",
        "        print('Número negativo digitado, encerrando entrada de números')\n",
        "        break\n",
        "      lista_vazia.append(numeros)\n",
        "    break\n",
        "  except ValueError:\n",
        "    print('Digite apenas números inteiros')\n",
        "\n",
        "if any(numero % 2 != 0 for numero in lista_vazia):\n",
        "  impar = [numero for numero in lista_vazia if numero % 2 != 0]\n",
        "\n",
        "  while True:\n",
        "    pergunta = input(f'Deseja substituir esse(s) número(s) ímpar(es) {impar} pelo valor -1? (Sim) ou (Não): ').lower()\n",
        "    if pergunta in ['sim', 'não']:\n",
        "      break\n",
        "    else:\n",
        "      print('Precisa escoher uma das opções: (Sim) ou (Não)')\n",
        "\n",
        "  if pergunta == 'sim':\n",
        "    for p, numero in enumerate(lista_vazia):\n",
        "      if numero % 2 != 0:\n",
        "        lista_vazia[p] = -1\n",
        "\n",
        "    formatacao = [f'{numero:.2f}' for numero in lista_vazia]\n",
        "    print(f'A sua nova lista apos substituição é: {formatacao}')\n",
        "\n",
        "  else:\n",
        "    formatacao = [f'{numero:.2f}' for numero in lista_vazia]\n",
        "    print(f'A sua original sem alterações é: {formatacao}')\n",
        "\n",
        "else:\n",
        "  soma = sum(lista_vazia)\n",
        "  print(f'A soma da lista é: {soma:.2f}')"
      ]
    }
  ]
}