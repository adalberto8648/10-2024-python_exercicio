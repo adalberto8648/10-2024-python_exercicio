{
  "nbformat": 4,
  "nbformat_minor": 0,
  "metadata": {
    "colab": {
      "provenance": [],
      "authorship_tag": "ABX9TyMCU41zJFcQrPPN0vdzdBUg",
      "include_colab_link": true
    },
    "kernelspec": {
      "name": "python3",
      "display_name": "Python 3"
    },
    "language_info": {
      "name": "python"
    }
  },
  "cells": [
    {
      "cell_type": "markdown",
      "metadata": {
        "id": "view-in-github",
        "colab_type": "text"
      },
      "source": [
        "<a href=\"https://colab.research.google.com/github/adalberto8648/10-2024-python_exercicio/blob/main/python_exercicio_046_2024.ipynb\" target=\"_parent\"><img src=\"https://colab.research.google.com/assets/colab-badge.svg\" alt=\"Open In Colab\"/></a>"
      ]
    },
    {
      "cell_type": "code",
      "execution_count": null,
      "metadata": {
        "id": "iuqX_r11HTPs"
      },
      "outputs": [],
      "source": [
        "'''Exercício 46: 10/2024\n",
        "Descrição: Você deve criar um programa que solicita ao usuário que insira as notas de um aluno (de 0 a 10)\n",
        "até que ele decida parar. O programa deve então calcular e exibir a média das notas inseridas,\n",
        "a maior e a menor nota, e também o número de notas válidas inseridas.\n",
        "\n",
        "Requisitos:\n",
        "O programa deve continuar pedindo notas até que o usuário insira uma nota negativa ou uma nota maior que 10.\n",
        "As notas válidas devem ser armazenadas em uma lista.\n",
        "Se o usuário não inserir nenhuma nota válida, exiba uma mensagem informando que nenhuma nota válida foi inserida.\n",
        "Caso contrário, exiba a média, a maior e a menor nota e o número de notas válidas inseridas'''\n",
        "\n",
        "from itertools import count\n",
        "\n",
        "def formatacao_lista(lista):\n",
        "  lista_formatada = [f'{numero:.2f}' for numero in lista]\n",
        "  return lista_formatada\n",
        "\n",
        "lista_vazia = []\n",
        "\n",
        "print(\"Digite suas notas de 0 a 10, quantas vezes quiser. Para encerrar, digite um número negativo ou maior que 10.\")\n",
        "for n in count(1):\n",
        "  while True:\n",
        "    try:\n",
        "      numeros = int(input(f'Digite a {n}° nota do aluno (ou uma nota negativa para encerrar) '))\n",
        "      if n == 1 and (numeros < 0 or numeros > 10):\n",
        "        print('O primeiro número não pode ser negativo nem maior que 10. Tente novamente.')\n",
        "        continue\n",
        "      if numeros < 0 or numeros > 10:\n",
        "        print('Número negativo ou maior que 10 digitado. Encerrando a entrada de números.')\n",
        "        break\n",
        "      lista_vazia.append(numeros)\n",
        "      break\n",
        "    except ValueError:\n",
        "      print('Digite notas válidas')\n",
        "  if numeros < 0 or numeros > 10:\n",
        "    break\n",
        "\n",
        "media = sum(lista_vazia) / len(lista_vazia)\n",
        "print(f'A média da(s) nota(s) inserida(s): {media:.2f}')\n",
        "\n",
        "maior = max(lista_vazia)\n",
        "print(f'A maior nota inserida é: {maior}')\n",
        "\n",
        "menor = min(lista_vazia)\n",
        "print(f'A menor nota inserida é: {menor}')\n",
        "\n",
        "numero_de_notas = len(lista_vazia)\n",
        "print(f'Foi(ram) {numero_de_notas} nota(s) válida(s). A(s) nota(s) válida(s) é(são): {lista_vazia}')"
      ]
    }
  ]
}