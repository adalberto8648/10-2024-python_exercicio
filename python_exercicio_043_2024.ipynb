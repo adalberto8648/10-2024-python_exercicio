{
  "nbformat": 4,
  "nbformat_minor": 0,
  "metadata": {
    "colab": {
      "provenance": [],
      "authorship_tag": "ABX9TyMoijYHiKTM8YCJRQ7CuXs+",
      "include_colab_link": true
    },
    "kernelspec": {
      "name": "python3",
      "display_name": "Python 3"
    },
    "language_info": {
      "name": "python"
    }
  },
  "cells": [
    {
      "cell_type": "markdown",
      "metadata": {
        "id": "view-in-github",
        "colab_type": "text"
      },
      "source": [
        "<a href=\"https://colab.research.google.com/github/adalberto8648/10-2024-python_exercicio/blob/main/python_exercicio_043_2024.ipynb\" target=\"_parent\"><img src=\"https://colab.research.google.com/assets/colab-badge.svg\" alt=\"Open In Colab\"/></a>"
      ]
    },
    {
      "cell_type": "code",
      "execution_count": null,
      "metadata": {
        "id": "MEIqyvKGGaOw"
      },
      "outputs": [],
      "source": [
        "'''Exercício 16: / 28 / 43: 10/2024\n",
        "\n",
        "Solicite ao usuário que digite 5 números inteiros e armazene-os em uma lista.\n",
        "Verifique se algum número é par e exiba a mensagem: \"Número par encontrado\" se houver pelo menos um número par.\n",
        "Pergunte ao usuário se ele deseja multiplicar os números da lista por um valor escolhido.\n",
        "        Caso a resposta seja \"sim\", solicite o valor de multiplicação e aplique-o a cada número da lista.\n",
        "Exiba a nova lista após a multiplicação com os números formatados com duas casas decimais.\n",
        "Calcule e exiba a soma de todos os números na lista (multiplicados ou não).\n",
        "Trate possíveis erros de digitação usando try e except, e mostre uma mensagem apropriada ao usuário.\n",
        "Alterar o código feito para incluir o loop while\n",
        "Incluir alguma função'''\n",
        "\n",
        "def multiplicar_lista(lista):\n",
        "  while True:\n",
        "    try:\n",
        "      multiplicador = int(input('Digite o número a ser multiplicado: '))\n",
        "      if multiplicador <= 0:\n",
        "        print('Número negativo digitado, digite novamente')\n",
        "      else:\n",
        "        nova_lista = [numero * multiplicador for numero in lista]\n",
        "        return nova_lista\n",
        "    except ValueError:\n",
        "      print('Digite apenas números inteiros')\n",
        "\n",
        "def formatar_lista(lista):\n",
        "  lista_formatada = [f'{numero:.2f}' for numero in lista]\n",
        "  return lista_formatada\n",
        "\n",
        "def soma_total_lista(lista):\n",
        "  return sum(lista)\n",
        "\n",
        "lista_vazia = []\n",
        "print(\"Você pode digitar até 5 números inteiros. Para encerrar, digite um número negativo.\")\n",
        "for n in range(1, 6):\n",
        "  while True:\n",
        "    try:\n",
        "      numeros = int(input(f'Digite o {n}º número inteiro: '))\n",
        "      if n == 1 and numeros < 0:\n",
        "        print('O primeiro número não pode ser menor que 0. Tente novamente')\n",
        "        continue\n",
        "      if numeros < 0:\n",
        "        print('Número negativo digitado. Encerrando a entrada de números.')\n",
        "        break\n",
        "      lista_vazia.append(numeros)\n",
        "      break\n",
        "    except ValueError:\n",
        "      print('Digite apenas números inteiros')\n",
        "  if numeros < 0:\n",
        "    break\n",
        "\n",
        "pares = [numero for numero in lista_vazia if numero % 2 == 0]\n",
        "\n",
        "if pares:\n",
        "  print(f'Número(s) par(es) encontrado(s): {pares}')\n",
        "\n",
        "while True:\n",
        "  pergunta = input('Deseja multiplicar os números da lista por um valor escolhido? (Sim) ou (Não): ').lower()\n",
        "  if pergunta in ['sim', 'não']:\n",
        "    break\n",
        "  else:\n",
        "    print('Escolha uma das opções: (Sim) ou (Não)')\n",
        "\n",
        "if pergunta == 'sim':\n",
        "  nova_lista = multiplicar_lista(lista_vazia)\n",
        "  lista_formatada = formatar_lista(nova_lista)\n",
        "  print(f'Sua nova lista após a multiplicação e formatação é: {lista_formatada}')\n",
        "  soma_multiplicado = soma_total_lista(nova_lista)\n",
        "  print(f'A soma de sua lista após a multiplicação é: {soma_multiplicado:.2f}')\n",
        "\n",
        "else:\n",
        "  lista_formatada = formatar_lista(lista_vazia)\n",
        "  print(f'Sua lista formatada é: {lista_formatada}')\n",
        "  soma_sem_multiplicacao = soma_total_lista(lista_vazia)\n",
        "  print(f'A soma de sua lista sem a multiplicação é: {soma_sem_multiplicacao:.2f}')"
      ]
    }
  ]
}