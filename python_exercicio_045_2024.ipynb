{
  "nbformat": 4,
  "nbformat_minor": 0,
  "metadata": {
    "colab": {
      "provenance": [],
      "authorship_tag": "ABX9TyNbSV74Qc5IYcpXplGlC/SO",
      "include_colab_link": true
    },
    "kernelspec": {
      "name": "python3",
      "display_name": "Python 3"
    },
    "language_info": {
      "name": "python"
    }
  },
  "cells": [
    {
      "cell_type": "markdown",
      "metadata": {
        "id": "view-in-github",
        "colab_type": "text"
      },
      "source": [
        "<a href=\"https://colab.research.google.com/github/adalberto8648/10-2024-python_exercicio/blob/main/python_exercicio_045_2024.ipynb\" target=\"_parent\"><img src=\"https://colab.research.google.com/assets/colab-badge.svg\" alt=\"Open In Colab\"/></a>"
      ]
    },
    {
      "cell_type": "code",
      "execution_count": null,
      "metadata": {
        "id": "-hsKKJreHAxG"
      },
      "outputs": [],
      "source": [
        "'''Exercício 18 / 30 / 45: 10/2024\n",
        "\n",
        "Peça ao usuário para digitar 5 números inteiros e armazene-os em uma lista.\n",
        "Verifique se existe algum número maior que 10 na lista. Se sim, exiba:\n",
        "\"Há pelo menos um número maior que 10\". Caso contrário, exiba: \"Todos os\n",
        "números são menores ou iguais a 10\".\n",
        "Pergunte ao usuário se ele deseja substituir todos os números menores ou iguais a 10 por 0.\n",
        "Se o usuário responder \"sim\", faça a substituição e mostre a nova lista\n",
        "formatada com duas casas decimais.\n",
        "Se o usuário responder \"não\", exiba a lista original formatada.\n",
        "Mostre a soma dos números da lista final (após a substituição, se houver).\n",
        "Use try e except para tratar entradas inválidas, garantindo que o usuário\n",
        "digite apenas números inteiros.\n",
        "Alterar o código feito para incluir o loop while\n",
        "Incluir alguma função'''\n",
        "\n",
        "def formatacao_lista(lista):\n",
        "  lista_formatada = [f'{numero:.2f}' for numero in lista]\n",
        "  return lista_formatada\n",
        "\n",
        "def soma_total(lista):\n",
        "  return sum(lista)\n",
        "\n",
        "lista_vazia = []\n",
        "print(\"Você pode digitar até 5 números inteiros. Para encerrar, digite um número negativo.\")\n",
        "\n",
        "for n in range(1, 6):\n",
        "  while True:\n",
        "    try:\n",
        "      numeros = int(input(f'Digite o {n}° número inteiro: '))\n",
        "      if n == 1 and numeros < 0:\n",
        "        print('O primeiro número não pode ser negativo. Tente novamente.')\n",
        "        continue\n",
        "      if numeros < 0:\n",
        "        print('Número negativo digitado. Encerrando a entrada de números.')\n",
        "        break\n",
        "      lista_vazia.append(numeros)\n",
        "      break\n",
        "    except ValueError:\n",
        "      print('Digite apenas números inteiros')\n",
        "  if numeros < 0:\n",
        "    break\n",
        "\n",
        "if any(numero > 10 for numero in lista_vazia):\n",
        "  maiores = [numero for numero in lista_vazia if numero > 10]\n",
        "  print(f'Há número(s) maior(es) que 10: {maiores}')\n",
        "else:\n",
        "  print('Todos os números são menores ou igual a 10')\n",
        "\n",
        "while True:\n",
        "  pergunta = input('Deseja substituir todos os números menores ou igual a 10 por 0? (Sim) ou (Não): ').lower()\n",
        "  if pergunta in ['sim', 'não']:\n",
        "    break\n",
        "  else:\n",
        "    print('Escolha uma das opções: (Sim) ou (Não)')\n",
        "\n",
        "if pergunta == 'sim':\n",
        "  for p, numero in enumerate(lista_vazia):\n",
        "    if numero <= 10:\n",
        "      lista_vazia[p] = 0\n",
        "\n",
        "  formatacao = formatacao_lista(lista_vazia)\n",
        "  print(f'Sua nova lista após a substituição é: {formatacao}')\n",
        "\n",
        "  soma = soma_total(lista_vazia)\n",
        "  print(f'A soma dos números após substituição: {soma}')\n",
        "else:\n",
        "  formatacao = formatacao_lista(lista_vazia)\n",
        "  print(f'Sua lista formatada é: {formatacao}')"
      ]
    }
  ]
}