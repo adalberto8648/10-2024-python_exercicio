{
  "nbformat": 4,
  "nbformat_minor": 0,
  "metadata": {
    "colab": {
      "provenance": [],
      "authorship_tag": "ABX9TyNjWo47NuhuQQdt4L8LdmNI",
      "include_colab_link": true
    },
    "kernelspec": {
      "name": "python3",
      "display_name": "Python 3"
    },
    "language_info": {
      "name": "python"
    }
  },
  "cells": [
    {
      "cell_type": "markdown",
      "metadata": {
        "id": "view-in-github",
        "colab_type": "text"
      },
      "source": [
        "<a href=\"https://colab.research.google.com/github/adalberto8648/10-2024-python_exercicio/blob/main/python_exercicio_040_2024.ipynb\" target=\"_parent\"><img src=\"https://colab.research.google.com/assets/colab-badge.svg\" alt=\"Open In Colab\"/></a>"
      ]
    },
    {
      "cell_type": "code",
      "execution_count": null,
      "metadata": {
        "id": "BkX93gby0ubx"
      },
      "outputs": [],
      "source": [
        "'''Exercício 26 / 40: 10/2024\n",
        "\n",
        "Descrição: Crie um programa que solicite ao usuário a entrada de 10 números\n",
        "inteiros e armazene-os em uma lista.\n",
        "O programa deve calcular e exibir:\n",
        "A soma de todos os números.\n",
        "A média dos números.\n",
        "O menor e o maior número da lista.\n",
        "A quantidade de números pares e ímpares.\n",
        "\n",
        "Dicas:\n",
        "Utilize um loop para coletar os números.\n",
        "Utilize as funções sum(), max() min() e len() para ajudar nos cálculos.\n",
        "Alterar o código feito para incluir o loop while'''\n",
        "\n",
        "lista_vazia = []\n",
        "print(\"Você pode digitar até 5 números inteiros. Para encerrar, digite um número negativo.\")\n",
        "while True:\n",
        "  try:\n",
        "    for n in range(1, 5):\n",
        "      numeros = int(input(f'Digite o {n}° número inteiro: '))\n",
        "      if numeros < 0:\n",
        "        print('Número negativo digitado, encerrando entrada de números')\n",
        "        break\n",
        "      lista_vazia.append(numeros)\n",
        "    break\n",
        "  except ValueError:\n",
        "    print('Digite apenas números inteiros')\n",
        "\n",
        "soma_total = sum(lista_vazia)\n",
        "print(f'A soma total dos números digitados é: {soma_total:.2f}')\n",
        "\n",
        "media = sum(lista_vazia) / len(lista_vazia)\n",
        "print(f'A média dos números digitados é: {media:.2f}')\n",
        "\n",
        "maior = max(lista_vazia)\n",
        "print(f'O número maior digitado é: {maior}')\n",
        "\n",
        "minimo = min(lista_vazia)\n",
        "print(f'O número menor digitado é: {minimo}')\n",
        "\n",
        "impares = [numero for numero in lista_vazia if numero % 2 != 0]\n",
        "impar = sum(1 for numero in lista_vazia if numero % 2 != 0)\n",
        "print(f'Foi(ram) digitado(s) {impar} impar(es): {impares}')\n",
        "\n",
        "pares = [numero for numero in lista_vazia if numero % 2 == 0]\n",
        "par = sum(1 for numero in lista_vazia if numero % 2 == 0)\n",
        "print(f'Foi(ram) digitado(s) {par} par(es): {pares}')"
      ]
    }
  ]
}