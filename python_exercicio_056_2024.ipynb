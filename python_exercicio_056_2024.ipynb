{
  "nbformat": 4,
  "nbformat_minor": 0,
  "metadata": {
    "colab": {
      "provenance": [],
      "authorship_tag": "ABX9TyNMLG8xS6Y6SDqcy+pg3/uk",
      "include_colab_link": true
    },
    "kernelspec": {
      "name": "python3",
      "display_name": "Python 3"
    },
    "language_info": {
      "name": "python"
    }
  },
  "cells": [
    {
      "cell_type": "markdown",
      "metadata": {
        "id": "view-in-github",
        "colab_type": "text"
      },
      "source": [
        "<a href=\"https://colab.research.google.com/github/adalberto8648/10-2024-python_exercicio/blob/main/python_exercicio_056_2024.ipynb\" target=\"_parent\"><img src=\"https://colab.research.google.com/assets/colab-badge.svg\" alt=\"Open In Colab\"/></a>"
      ]
    },
    {
      "cell_type": "code",
      "execution_count": null,
      "metadata": {
        "id": "Oq6ZnktvfRsi"
      },
      "outputs": [],
      "source": [
        "'''Exercício 56: 10/2024\n",
        "Objetivo: Escrever um programa que verifica se uma palavra ou frase é um palíndromo\n",
        "(ou seja, se ela é igual quando lida de trás para frente,\n",
        "ignorando espaços e diferenciação entre maiúsculas e minúsculas).\n",
        "\n",
        "Instruções:\n",
        "Peça ao usuário que insira uma palavra ou frase.\n",
        "Remova todos os espaços da palavra ou frase e transforme todas as letras em minúsculas.\n",
        "Verifique se a palavra ou frase é igual quando lida de trás para frente.\n",
        "Exiba uma mensagem informando se é um palíndromo ou não.\n",
        "Valide a entrada do usuário para garantir que ele insira uma palavra ou frase válida (não vazia).\n",
        "Dicas:\n",
        "Use o método .replace(' ', '') para remover espaços.\n",
        "Use o método .lower() para converter a string para minúsculas.\n",
        "Use slicing ([::-1]) para inverter a string.'''\n",
        "\n",
        "while True:\n",
        "  frase = input('Digite uma frase: ').strip().lower()\n",
        "  if not frase:\n",
        "    print('Insira uma frase, o campo está vazio.')\n",
        "    continue\n",
        "  else:\n",
        "    break\n",
        "\n",
        "print(f'A frase digitada foi: {frase}')\n",
        "\n",
        "lista = frase.split()\n",
        "print(f'A frase transformada em lista: {lista}')\n",
        "\n",
        "palavras = len(lista)\n",
        "print(f'Foram digitadas {palavras} palavras')\n",
        "\n",
        "letras = len(frase.replace(' ' , ''))\n",
        "print(f'Foram digitadas {letras} letras')\n",
        "\n",
        "media_letras = letras / palavras\n",
        "print(f'A media de palavra por frase é: {media_letras:.2f}')\n",
        "\n",
        "frase_sem_espacos = frase.replace(' ' , '')\n",
        "print(f'A frase sem espaços: {letras}')\n",
        "\n",
        "inversao = frase[::-1]\n",
        "print(f'A frase invertida: {inversao}')\n",
        "\n",
        "if inversao == frase_sem_espacos:\n",
        "  print(f'A frase digitada {frase_sem_espacos} é palíndromo: {inversao}')\n",
        "\n",
        "else:\n",
        "  print('A frase digitada não é palíndromo.')"
      ]
    }
  ]
}