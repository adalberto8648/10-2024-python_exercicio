{
  "nbformat": 4,
  "nbformat_minor": 0,
  "metadata": {
    "colab": {
      "provenance": [],
      "authorship_tag": "ABX9TyNQughG8jnTZEi3JlpjBmGt",
      "include_colab_link": true
    },
    "kernelspec": {
      "name": "python3",
      "display_name": "Python 3"
    },
    "language_info": {
      "name": "python"
    }
  },
  "cells": [
    {
      "cell_type": "markdown",
      "metadata": {
        "id": "view-in-github",
        "colab_type": "text"
      },
      "source": [
        "<a href=\"https://colab.research.google.com/github/adalberto8648/10-2024-python_exercicio/blob/main/python_exercicio_039_2024.ipynb\" target=\"_parent\"><img src=\"https://colab.research.google.com/assets/colab-badge.svg\" alt=\"Open In Colab\"/></a>"
      ]
    },
    {
      "cell_type": "code",
      "execution_count": null,
      "metadata": {
        "id": "kmgoisOE1FSo"
      },
      "outputs": [],
      "source": [
        "'''Exercício 25 / 39: 10/2024\n",
        "\n",
        "Crie um programa que receba 5 números inteiros e verifique se todos são pares.\n",
        "Se todos forem pares, calcule a média dos números.\n",
        "Caso contrário, encontre e exiba o maior número ímpar da lista.\n",
        "Ao final, exiba a lista formatada com duas casas decimais.\n",
        "\n",
        "Dicas:\n",
        "Use o loop for para obter os números.\n",
        "Utilize all() para verificar se todos os números são pares.\n",
        "Use max() para encontrar o maior número ímpar, caso exista.\n",
        "A formatação dos números deve ser feita com f-strings.\n",
        "Alterar o código feito para incluir o loop while'''\n",
        "\n",
        "lista_vazia = []\n",
        "print(\"Você pode digitar até 5 números inteiros. Para encerrar, digite um número negativo.\")\n",
        "while True:\n",
        "  try:\n",
        "    for n in range(1, 6):\n",
        "      numeros = int(input(f'Digite o {n}° número inteiro: '))\n",
        "      if numeros < 0:\n",
        "        print('Número negativo digitado, encerrando entrada de números')\n",
        "        break\n",
        "      lista_vazia.append(numeros)\n",
        "    break\n",
        "  except ValueError:\n",
        "    print('Digite números inteiros')\n",
        "\n",
        "if all(numero % 2 == 0 for numero in lista_vazia):\n",
        "  media = sum(lista_vazia) / len(lista_vazia)\n",
        "  print(f'A média da lista digitada é: {media:.2f}')\n",
        "\n",
        "else:\n",
        "  impar = [numero for numero in lista_vazia if numero % 2 != 0]\n",
        "  print(f'Seu(s) número(s) impar(es) é(são): {impar}')\n",
        "\n",
        "  maior = max(impar)\n",
        "  print(f'O maior número da lista é: {maior}')"
      ]
    }
  ]
}