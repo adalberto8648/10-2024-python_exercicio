{
  "nbformat": 4,
  "nbformat_minor": 0,
  "metadata": {
    "colab": {
      "provenance": [],
      "authorship_tag": "ABX9TyNuaNAMC6IDeW7yTpWRpEgP",
      "include_colab_link": true
    },
    "kernelspec": {
      "name": "python3",
      "display_name": "Python 3"
    },
    "language_info": {
      "name": "python"
    }
  },
  "cells": [
    {
      "cell_type": "markdown",
      "metadata": {
        "id": "view-in-github",
        "colab_type": "text"
      },
      "source": [
        "<a href=\"https://colab.research.google.com/github/adalberto8648/10-2024-python_exercicio/blob/main/python_exercicio_050_2024.ipynb\" target=\"_parent\"><img src=\"https://colab.research.google.com/assets/colab-badge.svg\" alt=\"Open In Colab\"/></a>"
      ]
    },
    {
      "cell_type": "code",
      "execution_count": null,
      "metadata": {
        "id": "ADAq3xXZIwmV"
      },
      "outputs": [],
      "source": [
        "'''Exercício 50: 10/2024\n",
        "Objetivo: Desenvolver um programa que permita ao usuário inserir vários números inteiros,\n",
        "armazenar os números em listas separadas (pares e ímpares), calcular a soma de cada lista e,\n",
        "ao final, exibir o total de números inseridos e a média dos pares e ímpares.\n",
        "\n",
        "Instruções:\n",
        "Solicite ao usuário que insira números inteiros.\n",
        "O usuário deve continuar inserindo números até digitar um número negativo, o que encerra o processo.\n",
        "Valide as entradas para garantir que o usuário insira apenas números inteiros.\n",
        "Separe os números inseridos em duas listas: uma para números pares e outra para números ímpares.\n",
        "Calcule e exiba:\n",
        "A quantidade total de números inseridos.\n",
        "A soma e a média dos números pares.\n",
        "A soma e a média dos números ímpares.\n",
        "Trate erros de entrada utilizando try e except.'''\n",
        "\n",
        "from itertools import count\n",
        "lista_vazia = []\n",
        "\n",
        "for n in count(1):\n",
        "  while True:\n",
        "    try:\n",
        "      numeros = int(input(f'Digite o {n}º número inteiro: '))\n",
        "      if n == 1 and numeros < 0:\n",
        "        print('O primeiro númro digitado não pode ser negativo. Comece novamente.')\n",
        "        continue\n",
        "      if numeros < 0:\n",
        "        print('Digitado numero negativo, fechando entrada de números.')\n",
        "        break\n",
        "      lista_vazia.append(numeros)\n",
        "      break\n",
        "\n",
        "    except ValueError:\n",
        "      print('Digite apenas números inteiros.')\n",
        "\n",
        "  if numeros < 0:\n",
        "    break\n",
        "\n",
        "lista_par = [numero for numero in lista_vazia if numero % 2 == 0]\n",
        "lista_imp = [numero for numero in lista_vazia if numero % 2 != 0]\n",
        "print(lista_par)\n",
        "print(lista_imp)"
      ]
    }
  ]
}