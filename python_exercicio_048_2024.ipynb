{
  "nbformat": 4,
  "nbformat_minor": 0,
  "metadata": {
    "colab": {
      "provenance": [],
      "authorship_tag": "ABX9TyMuMn5MVZDEV5ejsPZDSW1t",
      "include_colab_link": true
    },
    "kernelspec": {
      "name": "python3",
      "display_name": "Python 3"
    },
    "language_info": {
      "name": "python"
    }
  },
  "cells": [
    {
      "cell_type": "markdown",
      "metadata": {
        "id": "view-in-github",
        "colab_type": "text"
      },
      "source": [
        "<a href=\"https://colab.research.google.com/github/adalberto8648/10-2024-python_exercicio/blob/main/python_exercicio_048_2024.ipynb\" target=\"_parent\"><img src=\"https://colab.research.google.com/assets/colab-badge.svg\" alt=\"Open In Colab\"/></a>"
      ]
    },
    {
      "cell_type": "code",
      "execution_count": null,
      "metadata": {
        "id": "Q4y-v9a-IAZq"
      },
      "outputs": [],
      "source": [
        "'''Exercício 20 / 32 / 48: 10/2024\n",
        "\n",
        "Peça ao usuário para digitar 7 números inteiros e podendo parar antes.\n",
        "O campo de entrada não pode ficar vazio.\n",
        "O primeiro número não pode ser negativo.\n",
        "Verifique se todos os números são positivos e exiba uma mensagem correspondente.\n",
        "Pergunte ao usuário se ele deseja multiplicar ou dividir os números por um valor.\n",
        "Multiplique ou divida todos os números pelo valor que irá solicitar.\n",
        "Exiba as listas formatadas com duas casas decimais.\n",
        "Por fim, calcule e exiba as médias.\n",
        "Incluir o loop while, for, def\n",
        "Se não forem digitados númreos positivos, avise e não faça nenhum cálculo'''\n",
        "\n",
        "def formata_lista(lista):\n",
        "  return [f'{numeros:.2f}' for numeros in lista]\n",
        "\n",
        "def calcula_media(lista):\n",
        "  return sum(lista) / len(lista)\n",
        "\n",
        "lista_vazia = []\n",
        "print(\"Você pode digitar até 6 números inteiros. Para encerrar, digite um número negativo.\")\n",
        "\n",
        "for n in range(1, 7):\n",
        "  while True:\n",
        "    try:\n",
        "      numeros = int(input(f'Digite o {n}° número: '))\n",
        "      if n == 1 and numeros < 0:\n",
        "        print('Número negativo digitado, comece novamente')\n",
        "        continue\n",
        "      if numeros < 0:\n",
        "        print('Numero negativo foi digitado, encerrando entrada de números.')\n",
        "        break\n",
        "      lista_vazia.append(numeros)\n",
        "      break\n",
        "    except ValueError:\n",
        "      print('Digite apenas números inteiros')\n",
        "  if numeros < 0:\n",
        "    break\n",
        "\n",
        "print(lista_vazia)\n",
        "\n",
        "if all(numeros >= 0 for numeros in lista_vazia):\n",
        "  print('Todos os números digitados são positivos.')\n",
        "\n",
        "  while True:\n",
        "    pergunta = input('Deseja multiplicar ou dividir por um valor? (Multiplicar) ou (Dividir): '). lower()\n",
        "    if pergunta in ['multiplicar', 'dividir']:\n",
        "      break\n",
        "    else:\n",
        "      print('Escolha uma das opções: (Multiplicar) ou (Dividir)')\n",
        "\n",
        "  if pergunta == 'multiplicar':\n",
        "    while True:\n",
        "      try:\n",
        "        multiplicador = int(input('Por qual número quer multiplicar? '))\n",
        "        if multiplicador > 0:\n",
        "          break\n",
        "        else:\n",
        "          print('Digite apenas números positivos.')\n",
        "      except ValueError:\n",
        "        print('Digite apenas números positivos.')\n",
        "\n",
        "    nova_lista = [numero * multiplicador for numero in lista_vazia]\n",
        "    lista_formatada = formata_lista(nova_lista)\n",
        "    print(f'A sua nova lista após multiplicação e formatação é: {lista_formatada}')\n",
        "\n",
        "    media = calcula_media(nova_lista)\n",
        "    print(f'A média após a multiplicação é: {media:.2f}')\n",
        "\n",
        "  else:\n",
        "    while True:\n",
        "      try:\n",
        "        divisor = int(input('Por qual número quer dividir? '))\n",
        "        if divisor > 0:\n",
        "          break\n",
        "        else:\n",
        "          print('Digite apenas números inteiros.')\n",
        "      except ValueError:\n",
        "        print('Digite apenas números inteiros.')\n",
        "\n",
        "    nova_lista = [numero / divisor for numero in lista_vazia]\n",
        "    lista_formatada = formata_lista(nova_lista)\n",
        "    print(f'A sua nova lista após a divisão e formatação é: {lista_formatada}')\n",
        "    media = calcula_media(nova_lista)\n",
        "    print(f'A média após a divisão é: {media:.2f}')\n",
        "\n",
        "else:\n",
        "  print('Não foram digitados números positivos para continuar o processo.')"
      ]
    }
  ]
}