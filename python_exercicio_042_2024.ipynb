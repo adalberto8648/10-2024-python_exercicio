{
  "nbformat": 4,
  "nbformat_minor": 0,
  "metadata": {
    "colab": {
      "provenance": [],
      "authorship_tag": "ABX9TyMldYn7rd3pl2h+hukj8K39",
      "include_colab_link": true
    },
    "kernelspec": {
      "name": "python3",
      "display_name": "Python 3"
    },
    "language_info": {
      "name": "python"
    }
  },
  "cells": [
    {
      "cell_type": "markdown",
      "metadata": {
        "id": "view-in-github",
        "colab_type": "text"
      },
      "source": [
        "<a href=\"https://colab.research.google.com/github/adalberto8648/10-2024-python_exercicio/blob/main/python_exercicio_042_2024.ipynb\" target=\"_parent\"><img src=\"https://colab.research.google.com/assets/colab-badge.svg\" alt=\"Open In Colab\"/></a>"
      ]
    },
    {
      "cell_type": "code",
      "execution_count": null,
      "metadata": {
        "id": "TsQxvTWzGHdj"
      },
      "outputs": [],
      "source": [
        "'''Exercício 15 / 27 / 42: 10/2024\n",
        "\n",
        "Solicite ao usuário que informe 5 números inteiros, um de cada vez.\n",
        "Armazene esses números em uma lista.\n",
        "Exiba os números digitados na tela.\n",
        "Peça ao usuário que informe um número para ser multiplicado por cada valor da lista.\n",
        "Realize a multiplicação e substitua os valores da lista pelos resultados.\n",
        "Exiba a nova lista formatada com duas casas decimais.\n",
        "Se o usuário digitar um valor que não seja um número, o programa deve informar\n",
        "um erro e solicitar que ele tente novamente (use o try-except).\n",
        "Caso algum número informado seja negativo, exiba uma mensagem informando que\n",
        "\"Números negativos foram digitados\".\n",
        "No final, mostre a soma total dos números da lista multiplicada.\n",
        "Alterar o código feito para incluir o loop while\n",
        "Incluir alguma função'''\n",
        "\n",
        "def multiplicador_lista(lista):\n",
        "  while True:\n",
        "    try:\n",
        "      multiplicador = int(input('Digite um número para multiplicar por cada valor da lista: '))\n",
        "      if multiplicador >= 0:\n",
        "        nova_lista = [numero * multiplicador for numero in lista]\n",
        "        return nova_lista\n",
        "      else:\n",
        "        print('Digite apenas números inteiros')\n",
        "    except ValueError:\n",
        "      print('Digite apenas números inteiros')\n",
        "\n",
        "def soma_lista(lista):\n",
        "  return sum(lista)\n",
        "\n",
        "def formatacao(lista):\n",
        "  lista_formatada = [f'{numero:.2f}' for numero in lista]\n",
        "  return lista_formatada\n",
        "\n",
        "lista_vazia = []\n",
        "\n",
        "print(\"Você pode digitar até 5 números inteiros. Para encerrar, digite um número negativo.\")\n",
        "\n",
        "for n in range(1, 6):\n",
        "  while True:\n",
        "    try:\n",
        "      numeros = int(input(f'Digite o {n}° número inteiro: '))\n",
        "      if n == 1 and numeros < 0:\n",
        "        print('Número negativo digitado, comece novamente')\n",
        "        continue\n",
        "      if numeros < 0:\n",
        "        print('Número negativo digitado. Encerrando a entrada de números.')\n",
        "        break\n",
        "      lista_vazia.append(numeros)\n",
        "      break\n",
        "    except ValueError:\n",
        "      print('Digite apenas números inteiros')\n",
        "  if numeros < 0:\n",
        "    break\n",
        "\n",
        "print(f'Os números digitados foram: {lista_vazia}')\n",
        "nova_lista = multiplicador_lista(lista_vazia)\n",
        "lista_formatada = formatacao(nova_lista)\n",
        "print(f'Sua nova lista após a multiplicação é: {lista_formatada}')\n",
        "\n",
        "soma_total = soma_lista(nova_lista)\n",
        "print(f'A soma da lista após a multiplicação é: {soma_total:.2f}')"
      ]
    }
  ]
}